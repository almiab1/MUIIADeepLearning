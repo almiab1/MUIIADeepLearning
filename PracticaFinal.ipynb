{
  "cells": [
    {
      "cell_type": "markdown",
      "metadata": {
        "colab_type": "text",
        "id": "view-in-github"
      },
      "source": [
        "<a href=\"https://colab.research.google.com/github/almiab1/MUIIADeepLearning/blob/main/PracticaFinal.ipynb\" target=\"_parent\"><img src=\"https://colab.research.google.com/assets/colab-badge.svg\" alt=\"Open In Colab\"/></a>"
      ]
    },
    {
      "cell_type": "markdown",
      "metadata": {
        "id": "PsNaYc9RvmD1"
      },
      "source": [
        "# Práctica Final | Deep Learning\n",
        "\n",
        "En el presente trabajo se proponen dos modelos basados en redes convolucionales, los cuales se trata de clasificar correctamente si un individuo está parpadeando o no. En la actualidad se pueden encontrar modelos de gran calidad, los cuales permiten construir modelos de gran precisión basándose sobre la base de dichos modelos pre-entrenados. Por ello, los modelos propuestos en este trabajo se definen haciendo uso de modelos previamente entrenados.\n",
        "\n",
        "En primer lugar, se propone una red basada en el modelo `InceptionResNetV2`. Un modelo pesado de gran profundidad que proporciona buenos resultados en problemas de clasificación. Se propone una estrategia donde el modelo `InceptionResNetV2` toma la función de extractor de características, obteniendo así las características profundas que posteriormente podrán ser utilizadas en la clasificación de las imágenes. En segundo punto, se propone una red basada en el modelo `DenseNet`. Un modelo de menor tamaño y que permite obtener resultados similares a los de `InceptionResNetV2`. En este caso se trata de re-entrenar el clasificador y aplicando `fine tuning` con el fin de ajustar los parámetros del modelo.\n",
        "\n",
        "Dado que se parte de un conjunto de datos desbalanceado, es necesario aplicar algunos métodos de balanceo con el fin de obtener un modelo más robusto. Previamente, al entrenamiento de la red, se propone el uso de técnicas como la estratificación de datos o `data augmentation`. A su vez, para mejorar el proceso de entrenamiento se hace empleo de `mini-batches` y de optimizadores como el optimizador Adam."
      ]
    },
    {
      "cell_type": "code",
      "execution_count": 1,
      "metadata": {
        "colab": {
          "base_uri": "https://localhost:8080/"
        },
        "id": "DLNUw-vuvhRx",
        "outputId": "8ea40371-10ff-4261-aaba-a9a8330a665a"
      },
      "outputs": [
        {
          "name": "stdout",
          "output_type": "stream",
          "text": [
            "Requirement already satisfied: tensorflow-addons in /Users/aijutic/miniconda3/envs/cnnDL/lib/python3.10/site-packages (0.20.0)\n",
            "Requirement already satisfied: packaging in /Users/aijutic/miniconda3/envs/cnnDL/lib/python3.10/site-packages (from tensorflow-addons) (23.0)\n",
            "Requirement already satisfied: typeguard<3.0.0,>=2.7 in /Users/aijutic/miniconda3/envs/cnnDL/lib/python3.10/site-packages (from tensorflow-addons) (2.13.3)\n"
          ]
        },
        {
          "name": "stderr",
          "output_type": "stream",
          "text": [
            "/Users/aijutic/miniconda3/envs/cnnDL/lib/python3.10/site-packages/tensorflow_addons/utils/tfa_eol_msg.py:23: UserWarning: \n",
            "\n",
            "TensorFlow Addons (TFA) has ended development and introduction of new features.\n",
            "TFA has entered a minimal maintenance and release mode until a planned end of life in May 2024.\n",
            "Please modify downstream libraries to take dependencies from other repositories in our TensorFlow community (e.g. Keras, Keras-CV, and Keras-NLP). \n",
            "\n",
            "For more information see: https://github.com/tensorflow/addons/issues/2807 \n",
            "\n",
            "  warnings.warn(\n"
          ]
        }
      ],
      "source": [
        "# Data manipulation and linear algebra\n",
        "import pandas as pd\n",
        "import numpy as np\n",
        "\n",
        "# Visualization\n",
        "import matplotlib.pyplot as plt\n",
        "import matplotlib.image as mpimage\n",
        "import cv2\n",
        "\n",
        "# Neural network API\n",
        "from sklearn.model_selection import train_test_split\n",
        "from sklearn.utils.class_weight import compute_class_weight\n",
        "\n",
        "# Keras imports\n",
        "from tensorflow.keras import optimizers, Input\n",
        "\n",
        "from tensorflow.keras.models import Model\n",
        "from tensorflow.keras.layers import Dense, Dropout, Concatenate, Conv2D, MaxPooling2D, Flatten, GlobalAveragePooling2D\n",
        "from keras.callbacks import EarlyStopping\n",
        "from keras.applications import InceptionResNetV2, DenseNet169 \n",
        "from keras.utils import plot_model\n",
        "\n",
        "from tensorflow.keras.preprocessing.image import ImageDataGenerator\n",
        "\n",
        "!pip install -U tensorflow-addons\n",
        "from tensorflow_addons.metrics import F1Score"
      ]
    },
    {
      "cell_type": "code",
      "execution_count": 2,
      "metadata": {
        "colab": {
          "base_uri": "https://localhost:8080/"
        },
        "id": "W-MWan3KCXmG",
        "outputId": "2711b7a6-a3f2-4ccd-f3ec-e1c82e48ebb0"
      },
      "outputs": [],
      "source": [
        "_isColab = False\n",
        "\n",
        "if _isColab:\n",
        "    from google.colab import drive\n",
        "\n",
        "    # Montamos el Google Drive en el directorio del proyecto y descomprimios el fichero con los datos\n",
        "    drive.mount('/content/drive')\n",
        "    !unzip -n '/content/drive/MyDrive/UIMP/Asignaturas/5-DeepLearning/Practicas/Final/Source/RT-BENE.zip' >> /dev/null"
      ]
    },
    {
      "cell_type": "markdown",
      "metadata": {
        "id": "yOKc9HbAbBY6"
      },
      "source": [
        "## Conjunto de datos\n",
        "\n",
        "Se va a trabajar con un conjunto de imágenes donde se representan los ojos de una persona. Se dispone de un fichero `csv` que define, para cada frame, si este se trata de un parpadeo o no y la ruta a las imágenes de los ojos izquierdo y derecho."
      ]
    },
    {
      "cell_type": "code",
      "execution_count": 3,
      "metadata": {
        "id": "sOwv5P20IHLv"
      },
      "outputs": [],
      "source": [
        "# Especificamos los paths al directorio que contiene las imagenes y al fichero con las etiquetas\n",
        "data_path = 'RT-BENE/'\n",
        "\n",
        "if _isColab == False:\n",
        "    data_path = \"./../RT-BENE/\"\n",
        "\n",
        "imgs_path = data_path + \"images/\"\n",
        "labels_path = data_path + \"blinks.csv\"\n",
        "\n",
        "\n",
        "# Leemos el fichero CSV con las etiquetas\n",
        "labels = pd.read_csv(labels_path, dtype = {\"blink\": \"category\"})"
      ]
    },
    {
      "cell_type": "markdown",
      "metadata": {
        "id": "Z58TY2VYeWFC"
      },
      "source": [
        "El dataframe `labels` contiene 5 atributos:\n",
        "\n",
        "- *frame_id*: identificador del fotograma.\n",
        "- *left_eye*: imagen del ojo izquierdo.\n",
        "- *right_eye*: imagen del ojo derecho.\n",
        "- *video*: identificador del video al que pertenece el fotograma.\n",
        "- *blink*: atributo clase, define si el sujeto está o no parpadeando en el fotograma."
      ]
    },
    {
      "cell_type": "code",
      "execution_count": 4,
      "metadata": {
        "colab": {
          "base_uri": "https://localhost:8080/",
          "height": 206
        },
        "id": "UfJK-QTku2RW",
        "outputId": "a3bc6168-ab38-4ccf-ec65-3fa77eaee32e"
      },
      "outputs": [
        {
          "data": {
            "text/html": [
              "<div>\n",
              "<style scoped>\n",
              "    .dataframe tbody tr th:only-of-type {\n",
              "        vertical-align: middle;\n",
              "    }\n",
              "\n",
              "    .dataframe tbody tr th {\n",
              "        vertical-align: top;\n",
              "    }\n",
              "\n",
              "    .dataframe thead th {\n",
              "        text-align: right;\n",
              "    }\n",
              "</style>\n",
              "<table border=\"1\" class=\"dataframe\">\n",
              "  <thead>\n",
              "    <tr style=\"text-align: right;\">\n",
              "      <th></th>\n",
              "      <th>blink_id</th>\n",
              "      <th>left_eye</th>\n",
              "      <th>right_eye</th>\n",
              "      <th>video</th>\n",
              "      <th>blink</th>\n",
              "    </tr>\n",
              "  </thead>\n",
              "  <tbody>\n",
              "    <tr>\n",
              "      <th>0</th>\n",
              "      <td>0</td>\n",
              "      <td>0_left_000001_rgb.png</td>\n",
              "      <td>0_right_000001_rgb.png</td>\n",
              "      <td>0</td>\n",
              "      <td>0</td>\n",
              "    </tr>\n",
              "    <tr>\n",
              "      <th>1</th>\n",
              "      <td>1</td>\n",
              "      <td>0_left_000002_rgb.png</td>\n",
              "      <td>0_right_000002_rgb.png</td>\n",
              "      <td>0</td>\n",
              "      <td>0</td>\n",
              "    </tr>\n",
              "    <tr>\n",
              "      <th>2</th>\n",
              "      <td>2</td>\n",
              "      <td>0_left_000003_rgb.png</td>\n",
              "      <td>0_right_000003_rgb.png</td>\n",
              "      <td>0</td>\n",
              "      <td>0</td>\n",
              "    </tr>\n",
              "    <tr>\n",
              "      <th>3</th>\n",
              "      <td>3</td>\n",
              "      <td>0_left_000004_rgb.png</td>\n",
              "      <td>0_right_000004_rgb.png</td>\n",
              "      <td>0</td>\n",
              "      <td>0</td>\n",
              "    </tr>\n",
              "    <tr>\n",
              "      <th>4</th>\n",
              "      <td>4</td>\n",
              "      <td>0_left_000005_rgb.png</td>\n",
              "      <td>0_right_000005_rgb.png</td>\n",
              "      <td>0</td>\n",
              "      <td>0</td>\n",
              "    </tr>\n",
              "  </tbody>\n",
              "</table>\n",
              "</div>"
            ],
            "text/plain": [
              "   blink_id               left_eye               right_eye  video blink\n",
              "0         0  0_left_000001_rgb.png  0_right_000001_rgb.png      0     0\n",
              "1         1  0_left_000002_rgb.png  0_right_000002_rgb.png      0     0\n",
              "2         2  0_left_000003_rgb.png  0_right_000003_rgb.png      0     0\n",
              "3         3  0_left_000004_rgb.png  0_right_000004_rgb.png      0     0\n",
              "4         4  0_left_000005_rgb.png  0_right_000005_rgb.png      0     0"
            ]
          },
          "execution_count": 4,
          "metadata": {},
          "output_type": "execute_result"
        }
      ],
      "source": [
        "# Mostramos los primero elementos del dataset\n",
        "labels.head()"
      ]
    },
    {
      "cell_type": "markdown",
      "metadata": {
        "id": "avjTTx3Ybeyw"
      },
      "source": [
        "Con el fin de tener una idea de las imágenes que se tratan, se muestran dos ejemplos:\n",
        "\n",
        "- Dos imágenes correspondientes al ojo derecho e izquierdo sin parpadear\n",
        "- Dos imágenes correspondientes al ojo derecho e izquierdo parpadeando"
      ]
    },
    {
      "cell_type": "code",
      "execution_count": 5,
      "metadata": {
        "colab": {
          "base_uri": "https://localhost:8080/",
          "height": 280
        },
        "id": "bEOyq8kfZtgU",
        "outputId": "4692a5f4-3be4-4e33-cd5d-e3115ac93d61"
      },
      "outputs": [
        {
          "data": {
            "image/png": "[encoded data removed]",
            "text/plain": [
              "<Figure size 1500x800 with 4 Axes>"
            ]
          },
          "metadata": {},
          "output_type": "display_data"
        }
      ],
      "source": [
        "fig, ax = plt.subplots(1,4, figsize=(15,8))\n",
        "# Cataract Image\n",
        "left_eye_1 = mpimage.imread(f'{imgs_path}/0_left_000001_rgb.png')\n",
        "ax[0].imshow(left_eye_1)\n",
        "ax[0].set_title(f'left eye, Resolution: {left_eye_1.shape}')\n",
        "\n",
        "# Diabetic_retinopathy\n",
        "right_eye_1 = mpimage.imread(f'{imgs_path}/0_right_000001_rgb.png')\n",
        "ax[1].imshow(right_eye_1)\n",
        "ax[1].set_title(f'right eye, {right_eye_1.shape}')\n",
        "\n",
        "# Glaucoma Image\n",
        "left_eye_2 = mpimage.imread(f'{imgs_path}/0_left_000161_rgb.png')\n",
        "ax[2].imshow(left_eye_2)\n",
        "ax[2].set_title(f'left eye blink, Resolution: {left_eye_2.shape}')\n",
        "\n",
        "# Normal Image\n",
        "right_eye_2 = mpimage.imread(f'{imgs_path}/0_right_000161_rgb.png')\n",
        "ax[3].imshow(right_eye_2)\n",
        "ax[3].set_title(f'right eye blink, {right_eye_2.shape}')\n",
        "\n",
        "plt.tight_layout()\n",
        "plt.show()"
      ]
    },
    {
      "cell_type": "markdown",
      "metadata": {
        "id": "vbZV9RdhZtgS"
      },
      "source": [
        "## Pasos previos\n",
        "\n",
        "En primera instacia se deben, tales como la carga del conjunto de datos y la creación de los distintos subconjuntos de datos que van a ser usados en la entramiento y validación del modelo.\n",
        "\n",
        "#### Desbalanceo de clases\n",
        "\n",
        "Los parpadeos son acciones rápidas y espontáneas que duran pocos segundos, por lo que en el conjunto de datos existen pocos fotogramas anotados como parpadeos. Esto implica que el conjunto está desequilibrado, es por ello que a lo largo del desarrollo de los modelos se van a ir implementando métodos para intentar mitigar el desequilibrio que se encuentra en una primera instancia. Esto se puede observar en la siguiente figura."
      ]
    },
    {
      "cell_type": "markdown",
      "metadata": {
        "id": "E7VPECAbLCyN"
      },
      "source": []
    },
    {
      "cell_type": "code",
      "execution_count": 6,
      "metadata": {
        "colab": {
          "base_uri": "https://localhost:8080/",
          "height": 447
        },
        "id": "k-0JM7KmVSGJ",
        "outputId": "9d681acc-8f19-4c00-8462-339777de6e44"
      },
      "outputs": [
        {
          "data": {
            "image/png": "[encoded data removed]",
            "text/plain": [
              "<Figure size 640x480 with 1 Axes>"
            ]
          },
          "metadata": {},
          "output_type": "display_data"
        }
      ],
      "source": [
        "# Contar el número de registros por cada clase\n",
        "counts = labels['blink'].value_counts()\n",
        "\n",
        "# Crear un gráfico de barras\n",
        "plt.bar([\"no blink\", \"blink\"], counts.values, color=['cornflowerblue', 'orange'])\n",
        "\n",
        "# Etiquetar los ejes y agregar un título\n",
        "plt.xlabel('Clase')\n",
        "plt.ylabel('Número de registros')\n",
        "plt.title('Distribución de clases en el conjunto de datos')\n",
        "\n",
        "# Mostrar la gráfica\n",
        "plt.show()"
      ]
    },
    {
      "cell_type": "markdown",
      "metadata": {
        "id": "yV6m6VT0c6kO"
      },
      "source": [
        "### Preparar el conjunto de datos\n",
        "\n",
        "Dado que no es optimo entrenar, validar y testear nuestro modelo con el mismo conjunto de datos, se debe de subdividir en varios grupos que servirán para las tareas previamente mencionadas.\n",
        "\n",
        "- **Creamos las tres particiones de datos: entrenamiento, validación y test**\n",
        "\n",
        "A través del método `train_test_split()` se puede crear particiones en nuestro conjunto de datos. Dichas particiones puedes ser creadas en base a unos parámetros predefinidos como pude ser el procentaje del registros que se adjuntan a un subconjuntos u a otro.\n",
        "\n",
        "En este caso, se procede a la partición de 3 subconjuntos: entrenamiento, validación y prueba. Del conjunto incial se distribuye un 80% de los registros para el subconjunto de entrenamiento, un 10 % para el conjunto de test otro 10% para el subconjunto de prueba. Cabe destacar que las subdivisiones se han realizado en base la semilla aleartoria `2023`, esto permite reproducir las particiones en otros casos. La semilla aleartoria definida para este pasó será la semilla de referencia para siguientes usos en este trabajo.\n",
        "\n",
        "Respecto al desbalaceo de los datos, la función `train_test_split()` permite aplicar el método de estratificación para garantizar que las muestras se dividan de manera proporcional y representativa. Esto se especifica mediante el parámetro `stratify` especificando la columna clase del dataset, en este caso la columna \"*blink*\"."
      ]
    },
    {
      "cell_type": "code",
      "execution_count": 7,
      "metadata": {
        "id": "8FXPaZ16Ig0Y"
      },
      "outputs": [],
      "source": [
        "# Semilla para replicar los experimentos\n",
        "seed = 2023\n",
        "\n",
        "# Creamos las tres particiones de datos: entrenamiento, validación y test aplicando estratificación\n",
        "train_data, test_data = train_test_split(labels, test_size=0.2, stratify=labels[\"blink\"], random_state=seed)\n",
        "val_data, test_data = train_test_split(test_data, test_size=0.5, stratify=test_data[\"blink\"], random_state=seed)"
      ]
    },
    {
      "cell_type": "markdown",
      "metadata": {
        "id": "xwZjOHteLfAo"
      },
      "source": [
        "En Keras no existen generadores por defecto que devuelvan dos imágenes. Necesitamos crear nuestro propio generador que devuelva a la vez las imágenes de ambos ojos y la etiqueta del frame. Para ello podemos crear dos generadores (uno para cada ojo) usando el método `flow_from_databrame` y combinarlos para crear el generador deseado.\n",
        "\n",
        "Para abordar el desequilibrio de clases, se hace uso de la técnica de generación de datos artificiales, conocida como \"*data augmentation*\". La biblioteca Keras proporciona una clase llamada ImageDataGenerator que puedes utilizar para generar imágenes adicionales con ligeras variaciones."
      ]
    },
    {
      "cell_type": "code",
      "execution_count": 8,
      "metadata": {
        "id": "1tKJqLxZv836"
      },
      "outputs": [],
      "source": [
        "# Aplicar tecnicas de preprocesado\n",
        "datagen = ImageDataGenerator(rescale=1./255, \n",
        "                             rotation_range=10, # rotación aleatoria en un rango de 20 grados\n",
        "                             width_shift_range=0.1, # desplazamiento horizontal aleatorio en un rango del 10% de la anchura de la imagen\n",
        "                             height_shift_range=0.1, # desplazamiento vertical aleatorio en un rango del 10% de la altura de la imagen\n",
        "                             zoom_range=0.1, # zoom aleatorio en un rango del 10%\n",
        "                             horizontal_flip=True, # reflejo horizontal aleatorio\n",
        ")\n",
        "\n",
        "# Columnas dataset\n",
        "left_eye_col = 'left_eye'\n",
        "right_eye_col = 'right_eye'\n",
        "y_col = 'blink'\n",
        "\n",
        "# Parámetros\n",
        "batch_size = 128\n",
        "img_width = 122 # minimo 75x75\n",
        "img_height = 75\n",
        "\n",
        "# Generador custom que devuelve un generador del ojo especificado\n",
        "def eye_generator(dataframe, eye_col):\n",
        "  return datagen.flow_from_dataframe(dataframe=dataframe, \n",
        "                                                    directory = imgs_path, \n",
        "                                                    target_size =(img_width, img_height), \n",
        "                                                    x_col=eye_col, \n",
        "                                                    y_col=y_col, \n",
        "                                                    class_mode=\"binary\", \n",
        "                                                    seed=seed, \n",
        "                                                    batch_size=batch_size)\n",
        "  \n",
        "# Generador custom que devuelve las dos imagenes de ojos y el label del parpadeo\n",
        "def generator(dataframe):\n",
        "  left_eye_generator = eye_generator(dataframe, left_eye_col)\n",
        "  right_eye_generator = eye_generator(dataframe, right_eye_col)\n",
        "  \n",
        "  while True:\n",
        "    left_eye = left_eye_generator.next()\n",
        "    left_eye_image = left_eye[0]\n",
        "    label = left_eye[1]\n",
        "    right_eye = right_eye_generator.next()\n",
        "    right_eye_image = right_eye[0]\n",
        "    yield [left_eye_image, right_eye_image], label\n",
        "\n",
        "def train_generator_func():\n",
        "  return generator(train_data)\n",
        "\n",
        "def val_generator_func():\n",
        "    return generator(val_data)\n",
        "\n",
        "def test_generator_func():\n",
        "    return generator(test_data)\n",
        "\n",
        "# Llamada a la función generator\n",
        "train_generator = train_generator_func()\n",
        "val_generator = val_generator_func()\n",
        "test_generator = test_generator_func()"
      ]
    },
    {
      "cell_type": "markdown",
      "metadata": {
        "id": "iJD5OdAuZtgW"
      },
      "source": [
        "- **Definición de parámetros comunes**\n",
        "\n",
        "En el proceso de construcción y prueba de los modelos existen parámetros que se comparten como pueden ser los inputs que recibe el modelo, el ratio de aprendizaje (learning rate) o las metricas de evaluación como la **F1-Score**.\n",
        "\n",
        "El **F1-Score** es una métrica que combina las métricas de precisión y recall en una sola medida, para evaluar el desempeño de un modelo de clasificación. Es especialmente útil en conjuntos de datos desbalanceados, donde una clase tiene muchas más muestras que las demás, ya que proporciona una medida más robusta del desempeño del modelo que la precisión o el recall por sí solos. "
      ]
    },
    {
      "cell_type": "code",
      "execution_count": 9,
      "metadata": {
        "id": "Y0MmMTuOZtgW"
      },
      "outputs": [
        {
          "name": "stdout",
          "output_type": "stream",
          "text": [
            "Metal device set to: Apple M1 Ultra\n",
            "\n",
            "systemMemory: 64.00 GB\n",
            "maxCacheSize: 24.00 GB\n",
            "\n"
          ]
        }
      ],
      "source": [
        "\"\"\"\" Configuraciones previas \"\"\"\n",
        "\n",
        "# Definimos la métrica F1\n",
        "f1_score = F1Score(name=\"f1_score\", num_classes=1, threshold=0.5, average='macro')\n",
        "\n",
        "# Declaramos dos capas de Input\n",
        "input_shape = (img_width,img_height,3)\n",
        "\n",
        "input_image1 = Input(shape=input_shape)\n",
        "input_image2 = Input(shape=input_shape)\n",
        "\n",
        "# Definimos el ratio de aprendizaje\n",
        "lr = 1e-4"
      ]
    },
    {
      "attachments": {},
      "cell_type": "markdown",
      "metadata": {
        "id": "jyVShX76ZtgW"
      },
      "source": [
        "## InceptionResNetV2 más Transfer Learning\n",
        "\n",
        "El primer modelo que se contruye esta conformado sobre la base del modelo pre-entrenado **InceptionResNetV2**, disponible a traves de la libreria **keras**. **InceptionResNetV2** tiene un tamaño de 80 MB, ha sido entrenado con 55.9 millones de parámetros y tiene una profuncidad de 449 capas. Respecto a la precisión del mismo, presenta un 95.3% de precisión para el dataset de validación de ImageNet.\n",
        "\n",
        "- **Definición del modelo**\n",
        "\n",
        "Antes de entrenar el modelo, es importante decidir qué capas se actualizarán durante el entrenamiento. Para este caso, como se va a hacer uso de **InceptionResNetV2** como extractor de características, se marcan todas las capas del modelo como no entrenables.\n",
        "\n",
        "Dado que la entrada del modelo son dos imágenes, es necesario realizar algunas modificaciónes respecto a como se implementa el modelo **InceptionResNetV2**. Para este caso, se llama al modelo dos veces extrayendo individualmente las caractaristicas de ambas imágenes. Posteriormente, mediante la función `Concatenate()` se unifican. "
      ]
    },
    {
      "cell_type": "code",
      "execution_count": 10,
      "metadata": {
        "colab": {
          "base_uri": "https://localhost:8080/",
          "height": 1000
        },
        "id": "4XZn-QbmRI8Q",
        "outputId": "515ba4a7-69b0-47e8-f2dc-86ddfb0f8a4e"
      },
      "outputs": [
        {
          "name": "stdout",
          "output_type": "stream",
          "text": [
            "Model: \"model\"\n",
            "__________________________________________________________________________________________________\n",
            " Layer (type)                   Output Shape         Param #     Connected to                     \n",
            "==================================================================================================\n",
            " input_1 (InputLayer)           [(None, 122, 75, 3)  0           []                               \n",
            "                                ]                                                                 \n",
            "                                                                                                  \n",
            " input_2 (InputLayer)           [(None, 122, 75, 3)  0           []                               \n",
            "                                ]                                                                 \n",
            "                                                                                                  \n",
            " inception_resnet_v2 (Functiona  (None, 1536)        54336736    ['input_1[0][0]',                \n",
            " l)                                                               'input_2[0][0]']                \n",
            "                                                                                                  \n",
            " concatenate (Concatenate)      (None, 3072)         0           ['inception_resnet_v2[0][0]',    \n",
            "                                                                  'inception_resnet_v2[1][0]']    \n",
            "                                                                                                  \n",
            " dense (Dense)                  (None, 1024)         3146752     ['concatenate[0][0]']            \n",
            "                                                                                                  \n",
            " dropout (Dropout)              (None, 1024)         0           ['dense[0][0]']                  \n",
            "                                                                                                  \n",
            " dense_1 (Dense)                (None, 512)          524800      ['dropout[0][0]']                \n",
            "                                                                                                  \n",
            " dense_2 (Dense)                (None, 1)            513         ['dense_1[0][0]']                \n",
            "                                                                                                  \n",
            "==================================================================================================\n",
            "Total params: 58,008,801\n",
            "Trainable params: 3,672,065\n",
            "Non-trainable params: 54,336,736\n",
            "__________________________________________________________________________________________________\n"
          ]
        },
        {
          "data": {
            "image/png": "[encoded data removed]",
            "text/plain": [
              "<IPython.core.display.Image object>"
            ]
          },
          "execution_count": 10,
          "metadata": {},
          "output_type": "execute_result"
        }
      ],
      "source": [
        "# Cargar InceptionResNetV2 pre-entrenado en ImageNet, sin la capa final\n",
        "base_model_incept = InceptionResNetV2(weights='imagenet', include_top=False, pooling='avg')\n",
        "\n",
        "# Congelar todas las capas del modelo base para aplicar transfer learning\n",
        "for layer in base_model_incept.layers:\n",
        "    layer.trainable = False\n",
        "\n",
        "# Extraer las características utilizando InceptionResNetV2\n",
        "features_image1 = base_model_incept(input_image1)\n",
        "features_image2 = base_model_incept(input_image2)\n",
        "\n",
        "# Combinar las características de ambas imágenes\n",
        "merged_features = Concatenate()([features_image1, features_image2])\n",
        "\n",
        "# Añadir capas adicionales para la clasificación\n",
        "x = Dense(1024, activation='relu')(merged_features)\n",
        "x = Dropout(0.5)(x)\n",
        "x = Dense(512, activation='relu')(x)\n",
        "output = Dense(1, activation='sigmoid')(x)\n",
        "\n",
        "# Crear el modelo\n",
        "model_incept = Model(inputs=[input_image1, input_image2], outputs=output)\n",
        "\n",
        "# Compilar el modelo\n",
        "model_incept.compile(optimizer=optimizers.legacy.Adam(learning_rate=lr), loss='binary_crossentropy', metrics=['accuracy', f1_score])\n",
        "\n",
        "# Imprimir un resumen del modelo\n",
        "model_incept.summary()\n",
        "\n",
        "# Grafica de la estructura de la red\n",
        "plot_model(model_incept, to_file='model_incept.png')"
      ]
    },
    {
      "cell_type": "markdown",
      "metadata": {
        "id": "1mHtrYLlhlYr"
      },
      "source": [
        "- **Entrenar el modelo**\n",
        "\n",
        "Una vez definido el modelo se procede a ajustarlo . El ajuste o entrenamiento se realiza a traves del método `.fit()`. Toma como entrada los datos de entrenamiento (características y etiquetas), y realiza un ajuste iterativo de los pesos de las capas de la red neuronal con el objetivo de minimizar una función de pérdida. Durante el entrenamiento, el modelo ajusta sus pesos utilziando el algoritmo de optimización especificado en la llamada al método `.compile()`.\n",
        "\n",
        "Para este caso, se especifica un entrenamiento de 10 epoch (ejecuciones). Cada ejecución se divide en `steps_per_epoch` pasos siendo `steps_per_epoch`:\n",
        "\n",
        "\\begin{align}\n",
        "        \\mathbf{steps\\_per\\_epoch} = \\frac{n\\_train\\_data}{batch\\_size}\n",
        "\\end{align}\n",
        "\n",
        "Donde `n_train_data` corresponde al número de elementos del subconjunto de entrenamiento y `batch_size` al tamaño del *batch*. Dado que se hace uso de un conjunto de validación durante el entrenamiento, tambien se deben especificar cantos \"*pasos*\" se realizan por *epoch*. Los `validation_steps` se definen de igual forma que los `steps_per_epoch`, sutituyendo `n_train_data` por el número de elementos del subconjunto de validación.\n",
        "\n",
        "Dado que el ajuste del modelo puede tomar bastante tiempo, se aplica el método **Early stopping**, una técnica que detiene el proceso de entrenamiento antes de que se produzca un sobreajuste (*overfitting*) en los datos de entrenamiento.\n",
        "\n",
        "Otra de las medidas tomada para combatir el desbalanceo de la clase 'blink' trata de dar más peso a la clase minoritaria (cuando parapadea). Este ajuste se realiza mediante la función `compute_class_weight()`, esta calcula los pesos de las clases para abordar el problema del desequilibrio de clases en el conjunto de datos. En este caso, se utiliza para el parámetro `class_weight` el método *'balanced'*, lo que significa que los pesos de las clases se calcularán de manera inversamente proporcional a la frecuencia de las clases en los datos de entrenamiento."
      ]
    },
    {
      "cell_type": "code",
      "execution_count": 11,
      "metadata": {
        "colab": {
          "base_uri": "https://localhost:8080/"
        },
        "id": "TB-EZ9e5SUiR",
        "outputId": "b4c82131-9cab-4c90-fadc-363da6b8dcf9"
      },
      "outputs": [
        {
          "name": "stdout",
          "output_type": "stream",
          "text": [
            "Found 85880 validated image filenames belonging to 2 classes.\n",
            "Found 85880 validated image filenames belonging to 2 classes.\n",
            "Epoch 1/10\n"
          ]
        },
        {
          "name": "stderr",
          "output_type": "stream",
          "text": [
            "2023-04-13 10:35:26.326421: W tensorflow/tsl/platform/profile_utils/cpu_utils.cc:128] Failed to get CPU frequency: 0 Hz\n"
          ]
        },
        {
          "name": "stdout",
          "output_type": "stream",
          "text": [
            "Found 10735 validated image filenames belonging to 2 classes.\n",
            "Found 10735 validated image filenames belonging to 2 classes.\n",
            "670/670 - 298s - loss: 0.2364 - accuracy: 0.8913 - f1_score: 0.4166 - val_loss: 0.1538 - val_accuracy: 0.9311 - val_f1_score: 0.5346 - 298s/epoch - 444ms/step\n",
            "Epoch 2/10\n",
            "670/670 - 209s - loss: 0.1673 - accuracy: 0.9249 - f1_score: 0.5153 - val_loss: 0.1135 - val_accuracy: 0.9543 - val_f1_score: 0.6339 - 209s/epoch - 311ms/step\n",
            "Epoch 3/10\n",
            "670/670 - 209s - loss: 0.1496 - accuracy: 0.9375 - f1_score: 0.5620 - val_loss: 0.0804 - val_accuracy: 0.9692 - val_f1_score: 0.7183 - 209s/epoch - 312ms/step\n",
            "Epoch 4/10\n",
            "670/670 - 206s - loss: 0.1288 - accuracy: 0.9456 - f1_score: 0.5982 - val_loss: 0.2338 - val_accuracy: 0.9008 - val_f1_score: 0.4507 - 206s/epoch - 307ms/step\n",
            "Epoch 5/10\n",
            "670/670 - 206s - loss: 0.1270 - accuracy: 0.9469 - f1_score: 0.6040 - val_loss: 0.1318 - val_accuracy: 0.9466 - val_f1_score: 0.6056 - 206s/epoch - 307ms/step\n",
            "Epoch 6/10\n",
            "670/670 - 207s - loss: 0.1227 - accuracy: 0.9510 - f1_score: 0.6236 - val_loss: 0.0836 - val_accuracy: 0.9650 - val_f1_score: 0.6882 - 207s/epoch - 309ms/step\n"
          ]
        },
        {
          "data": {
            "text/plain": [
              "<keras.callbacks.History at 0x339c77550>"
            ]
          },
          "execution_count": 11,
          "metadata": {},
          "output_type": "execute_result"
        }
      ],
      "source": [
        "# Configuración del método 'Early stopping'\n",
        "early_stopping = EarlyStopping(monitor='val_loss', patience=3, restore_best_weights=True)\n",
        "\n",
        "# Steps por epoch\n",
        "steps_per_epoch = len(train_data) / batch_size\n",
        "validation_steps = len(val_data) / batch_size\n",
        "\n",
        "# Calculo del peso de las clases para combatir el desbalanceo\n",
        "class_weights = compute_class_weight(class_weight='balanced', classes=np.unique(train_data[y_col]), y=train_data[y_col])\n",
        "class_weight_dict = dict(enumerate(class_weights))\n",
        "\n",
        "# Entrenamos el modelo con los datos preparados en el punto 2\n",
        "model_incept.fit(train_generator,\n",
        "          epochs=10,  # numero de epochs\n",
        "          verbose=2,  # muestra informacion del error al finalizar cada epoch\n",
        "          steps_per_epoch=steps_per_epoch,\n",
        "          validation_data=val_generator,\n",
        "          validation_steps=validation_steps,\n",
        "          callbacks=[early_stopping], # Añadir el callback de 'early stoppoing'\n",
        "          class_weight=class_weight_dict)"
      ]
    },
    {
      "attachments": {},
      "cell_type": "markdown",
      "metadata": {
        "id": "-713clkJZtgX"
      },
      "source": [
        "Después del entrenamiento, evalúa el rendimiento del modelo en el conjunto de prueba. Como metrícas de evaluación se toman la perdida del modelo, su precisión y el *F1-Score* obtenido. De forma similar al ajuste del modelo, se subdivide la ejecución en \"pasos\". Los `steps_eval` (pasos) en los que se va a evaluar el modelo son:\n",
        "\n",
        "\\begin{align}\n",
        "        \\mathbf{steps\\_eval} = \\frac{n\\_test\\_data}{batch\\_size}\n",
        "\\end{align}\n",
        "\n",
        "Donde `n_test_data` corresponde al número de elementos del subconjunto de test y `batch_size` al tamaño del *batch*. \n",
        "\n",
        "Como se observa en el código, el proceso de evaluación se encapsula en la función `eval_model()` que será usada en el posterior modelo."
      ]
    },
    {
      "cell_type": "code",
      "execution_count": 12,
      "metadata": {
        "colab": {
          "background_save": true,
          "base_uri": "https://localhost:8080/"
        },
        "id": "Tkmke4NrZtgY",
        "outputId": "3f76d9e1-61f9-41dc-fb01-8e93ee315f74"
      },
      "outputs": [
        {
          "name": "stdout",
          "output_type": "stream",
          "text": [
            "Found 10735 validated image filenames belonging to 2 classes.\n",
            "Found 10735 validated image filenames belonging to 2 classes.\n",
            "83/83 [==============================] - 27s 329ms/step - loss: 0.0855 - accuracy: 0.9669 - f1_score: 0.7024\n",
            "Test_loss: 0.0855, Test_acc: 0.9669, Test_F1_Score: 0.7024\n"
          ]
        }
      ],
      "source": [
        "def eval_model(model):\n",
        "  # Pasos de la ejecución\n",
        "  step_eval = len(test_data) / batch_size\n",
        "\n",
        "  # Evaluar el modelo en el conjunto de test\n",
        "  test_loss, test_acc, test_f1_score = model.evaluate(test_generator, steps=step_eval, verbose=1)\n",
        "  print(f\"Test_loss: {test_loss:.4f}, Test_acc: {test_acc:.4f}, Test_F1_Score: {test_f1_score:.4f}\")\n",
        "\n",
        "# Llamada a la función eval model\n",
        "eval_model(model_incept)"
      ]
    },
    {
      "cell_type": "markdown",
      "metadata": {
        "id": "Bad4ItG8ZtgY"
      },
      "source": [
        "Además de analizar el error obtenido, podemos utilizarlo para hacer predicciones. Para ello utilizaremos el método `predict`, al que le suministremos los datos de entrada."
      ]
    },
    {
      "cell_type": "code",
      "execution_count": 13,
      "metadata": {
        "id": "7TMOFXPXE3YE"
      },
      "outputs": [
        {
          "name": "stdout",
          "output_type": "stream",
          "text": [
            "83/83 [==============================] - 46s 438ms/step\n",
            "\n",
            " Ejemplo 0\n",
            "\t Probabilidades para las 2 clases: [6.178656e-05]\n",
            "\t Clase predicha: 0, Probabilidad: 0.0001\n",
            "\n",
            " Ejemplo 1\n",
            "\t Probabilidades para las 2 clases: [0.00132101]\n",
            "\t Clase predicha: 0, Probabilidad: 0.0013\n"
          ]
        }
      ],
      "source": [
        "def predict_model(model):\n",
        "  # Pasos de la ejecución\n",
        "  steps_predic = len(test_data) / batch_size\n",
        "  \n",
        "  # Obtenemos las predicciones para todos los ejemplos del conjunto de test\n",
        "  predictions = model.predict(test_generator, batch_size=batch_size, steps=steps_predic, verbose=1)\n",
        "\n",
        "  # Imprimimos la predicción obtenida para los dos primeros ejemplos\n",
        "  # Los valores obtenidos representan las probabilidades para cada una de las 5 clases\n",
        "  for i in range(0,2):\n",
        "    print(\"\\n Ejemplo\", i)\n",
        "    print(\"\\t Probabilidades para las 2 clases:\", predictions[i])\n",
        "    print(\"\\t Clase predicha: %i, Probabilidad: %.4f\" % (np.argmax([predictions[i]]), np.max(predictions[i])))\n",
        "    \n",
        "    \n",
        "# Llamada a la función eval model\n",
        "predict_model(model_incept)"
      ]
    },
    {
      "cell_type": "markdown",
      "metadata": {
        "id": "fsXAHs64ZtgY"
      },
      "source": [
        "## Fine Tuning con DenseNet\n",
        "\n",
        "El segundo modelo que se propone en este trabajo es una red confomada por un modelo pre-entrenado al que aplicando *fine tunning* se re-entrena una parte del modelo. En la parte final de la red la conforman una serie de capas totalmente conectadas y capas *dropout*.\n",
        "\n",
        "- **Definición del modelo**\n",
        "\n",
        "En este caso se hace uso del modelo **DenseNet121**. Este tiene un tamaño de 80 MB, ha sido entrenado con 20.1 millones de parámetros y tiene una profuncidad de 402 capas. Respecto a la precisión del mismo, presenta un 93.6% de precisión para el dataset de validación de ImageNet."
      ]
    },
    {
      "cell_type": "code",
      "execution_count": 14,
      "metadata": {
        "colab": {
          "base_uri": "https://localhost:8080/",
          "height": 1000
        },
        "id": "5WIUMDh7ZtgY",
        "outputId": "a1fc17d9-e86f-4930-9f5d-aebd33163738"
      },
      "outputs": [
        {
          "name": "stdout",
          "output_type": "stream",
          "text": [
            "Model: \"model_1\"\n",
            "__________________________________________________________________________________________________\n",
            " Layer (type)                   Output Shape         Param #     Connected to                     \n",
            "==================================================================================================\n",
            " input_1 (InputLayer)           [(None, 122, 75, 3)  0           []                               \n",
            "                                ]                                                                 \n",
            "                                                                                                  \n",
            " input_2 (InputLayer)           [(None, 122, 75, 3)  0           []                               \n",
            "                                ]                                                                 \n",
            "                                                                                                  \n",
            " densenet169 (Functional)       (None, 9, 9, 1664)   12642880    ['input_1[0][0]',                \n",
            "                                                                  'input_2[0][0]']                \n",
            "                                                                                                  \n",
            " concatenate_1 (Concatenate)    (None, 3, 2, 3328)   0           ['densenet169[0][0]',            \n",
            "                                                                  'densenet169[1][0]']            \n",
            "                                                                                                  \n",
            " global_average_pooling2d_1 (Gl  (None, 3328)        0           ['concatenate_1[0][0]']          \n",
            " obalAveragePooling2D)                                                                            \n",
            "                                                                                                  \n",
            " dense_3 (Dense)                (None, 1024)         3408896     ['global_average_pooling2d_1[0][0\n",
            "                                                                 ]']                              \n",
            "                                                                                                  \n",
            " dropout_1 (Dropout)            (None, 1024)         0           ['dense_3[0][0]']                \n",
            "                                                                                                  \n",
            " dense_4 (Dense)                (None, 512)          524800      ['dropout_1[0][0]']              \n",
            "                                                                                                  \n",
            " dense_5 (Dense)                (None, 1)            513         ['dense_4[0][0]']                \n",
            "                                                                                                  \n",
            "==================================================================================================\n",
            "Total params: 16,577,089\n",
            "Trainable params: 5,592,257\n",
            "Non-trainable params: 10,984,832\n",
            "__________________________________________________________________________________________________\n"
          ]
        },
        {
          "data": {
            "image/png": "[encoded data removed]",
            "text/plain": [
              "<IPython.core.display.Image object>"
            ]
          },
          "execution_count": 14,
          "metadata": {},
          "output_type": "execute_result"
        }
      ],
      "source": [
        "# Cargar el modelo DenseNet121 pre-entrenado en ImageNet sin incluir la capa de salida\n",
        "base_model_densenet = DenseNet169(weights='imagenet', include_top=False, input_shape=(299, 299, 3))\n",
        "\n",
        "# Congelar todas las capas del modelo base\n",
        "for layer in base_model_densenet.layers:\n",
        "    layer.trainable = False\n",
        "\n",
        "# Descongelar las últimas capas para aplicar fine-tuning\n",
        "# (en este ejemplo, descongelamos las últimas 50 capas)\n",
        "for layer in base_model_densenet.layers[-50:]:\n",
        "    layer.trainable = True\n",
        "\n",
        "# Extraer las características utilizando InceptionResNetV2\n",
        "features_image1 = base_model_densenet(input_image1)\n",
        "features_image2 = base_model_densenet(input_image2)\n",
        "\n",
        "# Combinar las características de ambas imágenes\n",
        "merged_features = Concatenate()([features_image1, features_image2])\n",
        "\n",
        "# # Añadir una capa de GlobalAveragePooling2D\n",
        "# x = base_model_densenet.output\n",
        "# x = GlobalAveragePooling2D()(x)\n",
        "\n",
        "# Añadir capas adicionales para la clasificación\n",
        "x = GlobalAveragePooling2D()(merged_features)\n",
        "x = Dense(1024, activation='relu')(x)\n",
        "x = Dropout(0.5)(x)\n",
        "x = Dense(512, activation='relu')(x)\n",
        "\n",
        "# Añadir una capa Dense de salida con una función de activación sigmoide (clasificación binaria)\n",
        "output = Dense(1, activation='sigmoid')(x)\n",
        "\n",
        "# Crear el nuevo modelo\n",
        "model_dn = Model(inputs=[input_image1, input_image2], outputs=output)\n",
        "\n",
        "# Compilar el modelo con la función de pérdida binary_crossentropy y la métrica de precisión\n",
        "model_dn.compile(optimizer=optimizers.legacy.Adam(learning_rate=lr), loss='binary_crossentropy', metrics=['accuracy', f1_score])\n",
        "\n",
        "# Imprimir un resumen del modelo\n",
        "model_dn.summary()\n",
        "\n",
        "# Grafica de la estructura de la red\n",
        "plot_model(model_dn, to_file='model_dn.png')"
      ]
    },
    {
      "cell_type": "markdown",
      "metadata": {
        "id": "buvy6mAbZtgZ"
      },
      "source": [
        "- **Entrenar el modelo**\n",
        "\n",
        "El ajuste del modelo es identico al enfoque desarrollado en el modelo previo. Destacar los aspectos más importantes como son la distribución de pesos por clase, el calculo de \"pasos\" por *epoch* y la aplicación de *early stopping*."
      ]
    },
    {
      "cell_type": "code",
      "execution_count": 15,
      "metadata": {
        "colab": {
          "base_uri": "https://localhost:8080/",
          "height": 398
        },
        "id": "rB0Eb05gZtgZ",
        "outputId": "3065cf64-991c-4b49-8e71-a40c6550bd41"
      },
      "outputs": [
        {
          "name": "stdout",
          "output_type": "stream",
          "text": [
            "Epoch 1/10\n",
            "670/670 - 258s - loss: 0.1739 - accuracy: 0.9254 - f1_score: 0.5304 - val_loss: 0.0636 - val_accuracy: 0.9766 - val_f1_score: 0.7704 - 258s/epoch - 384ms/step\n",
            "Epoch 2/10\n",
            "670/670 - 209s - loss: 0.0954 - accuracy: 0.9627 - f1_score: 0.6870 - val_loss: 0.0588 - val_accuracy: 0.9767 - val_f1_score: 0.7748 - 209s/epoch - 312ms/step\n",
            "Epoch 3/10\n",
            "670/670 - 209s - loss: 0.0771 - accuracy: 0.9688 - f1_score: 0.7257 - val_loss: 0.0361 - val_accuracy: 0.9857 - val_f1_score: 0.8490 - 209s/epoch - 312ms/step\n",
            "Epoch 4/10\n",
            "670/670 - 207s - loss: 0.0737 - accuracy: 0.9717 - f1_score: 0.7465 - val_loss: 0.0576 - val_accuracy: 0.9766 - val_f1_score: 0.7765 - 207s/epoch - 309ms/step\n",
            "Epoch 5/10\n",
            "670/670 - 212s - loss: 0.0667 - accuracy: 0.9733 - f1_score: 0.7573 - val_loss: 0.0852 - val_accuracy: 0.9685 - val_f1_score: 0.7243 - 212s/epoch - 316ms/step\n",
            "Epoch 6/10\n",
            "670/670 - 206s - loss: 0.0604 - accuracy: 0.9765 - f1_score: 0.7784 - val_loss: 0.0523 - val_accuracy: 0.9799 - val_f1_score: 0.8068 - 206s/epoch - 307ms/step\n"
          ]
        },
        {
          "data": {
            "text/plain": [
              "<keras.callbacks.History at 0x38170ba30>"
            ]
          },
          "execution_count": 15,
          "metadata": {},
          "output_type": "execute_result"
        }
      ],
      "source": [
        "# Configuración del método 'Early stopping'\n",
        "early_stopping = EarlyStopping(monitor='val_loss', patience=3, restore_best_weights=True)\n",
        "\n",
        "# Steps por epoch\n",
        "steps_per_epoch = len(train_data) / batch_size\n",
        "validation_steps = len(val_data) / batch_size\n",
        "\n",
        "# Calculo del peso de las clases para combatir el desbalanceo\n",
        "class_weights = compute_class_weight(class_weight='balanced', classes=np.unique(train_data[y_col]), y=train_data[y_col])\n",
        "class_weight_dict = dict(enumerate(class_weights))\n",
        "\n",
        "# Entrenamos el modelo con los datos preparados en el punto 2\n",
        "model_dn.fit(train_generator,\n",
        "          epochs=10,  # numero de epochs\n",
        "          verbose=2,  # muestra informacion del error al finalizar cada epoch\n",
        "          steps_per_epoch=steps_per_epoch,\n",
        "          validation_data=val_generator,\n",
        "          validation_steps=validation_steps,\n",
        "          callbacks=[early_stopping], # Añadsir el callback de 'early stoppoing'\n",
        "          class_weight=class_weight_dict)"
      ]
    },
    {
      "attachments": {},
      "cell_type": "markdown",
      "metadata": {
        "id": "wR_PNbgKZtgZ"
      },
      "source": [
        "- **Evaluación del modelo**\n",
        "\n",
        "Seguido del entrenamiento del modelo se evalua el mismo con un conjunto de prueba. Como metrícas de evaluación se toman la perdida del modelo, su precisión y el *F1-Score* obtenido. Al igual que la evaluación del modelo previo se , se subdivide la ejecución en \"pasos\". Los `steps_eval` (pasos) en los que se va a evaluar el modelo son:"
      ]
    },
    {
      "cell_type": "code",
      "execution_count": 16,
      "metadata": {
        "id": "mjEWMFsIZtgZ"
      },
      "outputs": [
        {
          "name": "stdout",
          "output_type": "stream",
          "text": [
            "83/83 [==============================] - 23s 278ms/step - loss: 0.0355 - accuracy: 0.9860 - f1_score: 0.8500\n",
            "Test_loss: 0.0355, Test_acc: 0.9860, Test_F1_Score: 0.8500\n"
          ]
        }
      ],
      "source": [
        "# Por ultimo, podemos evaluar el modelo en el conjunto de test\n",
        "eval_model(model_dn)"
      ]
    },
    {
      "cell_type": "markdown",
      "metadata": {
        "id": "yP71YOcrZtga"
      },
      "source": [
        "Además de analizar el error obtenido, podemos utilizarlo para hacer predicciones. Para ello utilizaremos el método `predict`, al que le suministremos los datos de entrada."
      ]
    },
    {
      "cell_type": "code",
      "execution_count": 17,
      "metadata": {
        "id": "iYaUrycsZtga"
      },
      "outputs": [
        {
          "name": "stdout",
          "output_type": "stream",
          "text": [
            "83/83 [==============================] - 49s 423ms/step\n",
            "\n",
            " Ejemplo 0\n",
            "\t Probabilidades para las 2 clases: [1.3336375e-08]\n",
            "\t Clase predicha: 0, Probabilidad: 0.0000\n",
            "\n",
            " Ejemplo 1\n",
            "\t Probabilidades para las 2 clases: [5.6544446e-05]\n",
            "\t Clase predicha: 0, Probabilidad: 0.0001\n"
          ]
        }
      ],
      "source": [
        "# Obtenemos las predicciones para todos los ejemplos del conjunto de test\n",
        "predict_model(model_dn)"
      ]
    }
  ],
  "metadata": {
    "accelerator": "GPU",
    "colab": {
      "include_colab_link": true,
      "provenance": []
    },
    "gpuClass": "standard",
    "kernelspec": {
      "display_name": "Python 3",
      "name": "python3"
    },
    "language_info": {
      "codemirror_mode": {
        "name": "ipython",
        "version": 3
      },
      "file_extension": ".py",
      "mimetype": "text/x-python",
      "name": "python",
      "nbconvert_exporter": "python",
      "pygments_lexer": "ipython3",
      "version": "3.10.10"
    }
  },
  "nbformat": 4,
  "nbformat_minor": 0
}
