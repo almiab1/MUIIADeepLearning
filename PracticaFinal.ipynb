{
  "nbformat": 4,
  "nbformat_minor": 0,
  "metadata": {
    "colab": {
      "provenance": [],
      "authorship_tag": "ABX9TyPYRKocSK9HLJdrEdQMa+Yt",
      "include_colab_link": true
    },
    "kernelspec": {
      "name": "python3",
      "display_name": "Python 3"
    },
    "language_info": {
      "name": "python"
    }
  },
  "cells": [
    {
      "cell_type": "markdown",
      "metadata": {
        "id": "view-in-github",
        "colab_type": "text"
      },
      "source": [
        "<a href=\"https://colab.research.google.com/github/almiab1/MUIIADeepLearning/blob/main/PracticaFinal.ipynb\" target=\"_parent\"><img src=\"https://colab.research.google.com/assets/colab-badge.svg\" alt=\"Open In Colab\"/></a>"
      ]
    },
    {
      "cell_type": "markdown",
      "source": [
        "# Práctica Final | Deep Learning"
      ],
      "metadata": {
        "id": "PsNaYc9RvmD1"
      }
    },
    {
      "cell_type": "markdown",
      "source": [
        "En el presente trabajo se proponen dos modelos basados en redes convolucionales, los cuales se trata de clasificar correctamente si un individuo está parpadeando o no. En la actualidad se pueden encontrar modelos de gran calidad, los cuales permiten construir modelos de gran precisión basándose sobre la base de dichos modelos pre-entrenados. Por ello, los modelos propuestos en este trabajo se definen haciendo uso de modelos previamente entrenados.\n",
        "\n",
        "En primer lugar, se propone una red basada en el modelo `InceptionResNetV2`. Un modelo pesado de gran profundidad que proporciona buenos resultados en problemas de clasificación. Se propone una estrategia donde el modelo `InceptionResNetV2` toma la función de extractor de características, obteniendo así las características profundas que posteriormente podrán ser utilizadas en la clasificación de las imágenes. En segundo punto, se propone una red basada en el modelo `DenseNet`. Un modelo de menor tamaño y que permite obtener resultados similares a los de `InceptionResNetV2`. En este caso se trata de re-entrenar el clasificador y aplicando `fine tuning` con el fin de ajustar los parámetros del modelo.\n",
        "\n",
        "Dado que se parte de un conjunto de datos desbalanceado, es necesario aplicar algunos métodos de balanceo con el fin de obtener un modelo más robusto. Previamente, al entrenamiento de la red, se propone el uso de técnicas como la estratificación de datos o `data augmentation`. A su vez, para mejorar el proceso de entrenamiento se hace empleo de `mini-batches` y de optimizadores como el optimizador Adam."
      ],
      "metadata": {
        "id": "MiX4ktIbk29n"
      }
    },
    {
      "cell_type": "code",
      "execution_count": null,
      "metadata": {
        "id": "DLNUw-vuvhRx"
      },
      "outputs": [],
      "source": [
        "import pandas as pd\n",
        "import numpy as np\n",
        "\n",
        "from google.colab import drive\n",
        "from sklearn.model_selection import train_test_split\n",
        "\n",
        "from tensorflow.keras import applications, optimizers, Input\n",
        "\n",
        "from tensorflow.keras.utils import to_categorical\n",
        "from tensorflow.keras.models import Model, load_model\n",
        "from tensorflow.keras.layers import Conv2D, MaxPooling2D, Flatten, Dense, Dropout, GlobalAveragePooling2D, Concatenate\n",
        "from keras.optimizers import Adam\n",
        "from keras.applications import InceptionResNetV2\n",
        "\n",
        "from tensorflow.keras.preprocessing.image import ImageDataGenerator"
      ]
    },
    {
      "cell_type": "code",
      "source": [
        "from google.colab import drive\n",
        "\n",
        "# Montamos el Google Drive en el directorio del proyecto y descomprimios el fichero con los datos\n",
        "drive.mount('/content/drive')\n",
        "!unzip -n '/content/drive/MyDrive/UIMP/Asignaturas/5-DeepLearning/Practicas/Final/Source/RT-BENE.zip' >> /dev/null"
      ],
      "metadata": {
        "colab": {
          "base_uri": "https://localhost:8080/"
        },
        "id": "W-MWan3KCXmG",
        "outputId": "8f818470-36ed-4c52-f295-a07b81e27e54"
      },
      "execution_count": null,
      "outputs": [
        {
          "output_type": "stream",
          "name": "stdout",
          "text": [
            "Mounted at /content/drive\n"
          ]
        }
      ]
    },
    {
      "cell_type": "markdown",
      "source": [
        "## Preparar datos de entrenamiento"
      ],
      "metadata": {
        "id": "CrJHUIkdv9RO"
      }
    },
    {
      "cell_type": "markdown",
      "source": [
        "*   **Cargar el dataset en el colab**"
      ],
      "metadata": {
        "id": "KeLGe15ZLHjX"
      }
    },
    {
      "cell_type": "code",
      "source": [
        "# Especificamos los paths al directorio que contiene las imagenes y al fichero con las etiquetas\n",
        "data_path = 'RT-BENE/'\n",
        "imgs_path = data_path + \"images/\"\n",
        "labels_path = data_path + \"blinks.csv\"\n",
        "\n",
        "# Leemos el fichero CSV con las etiquetas\n",
        "labels = pd.read_csv(labels_path, dtype = {\"class\": \"category\"})\n",
        "\n",
        "# Supongamos que tienes un DataFrame llamado 'labels' con los nombres de las imágenes y las etiquetas 'blink'\n",
        "# Convertir la columna 'blink' a tipo string\n",
        "labels['blink'] = labels['blink'].astype(str)\n",
        "\n",
        "# Mostramos los primero elementos del dataset\n",
        "labels.head()"
      ],
      "metadata": {
        "colab": {
          "base_uri": "https://localhost:8080/",
          "height": 206
        },
        "id": "sOwv5P20IHLv",
        "outputId": "aeaee0a6-2d91-4217-e64a-5afb112a8a4d"
      },
      "execution_count": null,
      "outputs": [
        {
          "output_type": "execute_result",
          "data": {
            "text/plain": [
              "   blink_id               left_eye               right_eye  video blink\n",
              "0         0  0_left_000001_rgb.png  0_right_000001_rgb.png      0     0\n",
              "1         1  0_left_000002_rgb.png  0_right_000002_rgb.png      0     0\n",
              "2         2  0_left_000003_rgb.png  0_right_000003_rgb.png      0     0\n",
              "3         3  0_left_000004_rgb.png  0_right_000004_rgb.png      0     0\n",
              "4         4  0_left_000005_rgb.png  0_right_000005_rgb.png      0     0"
            ],
            "text/html": [
              "\n",
              "  <div id=\"df-59b22a55-52b2-40d3-b9ad-c9af0830c1b4\">\n",
              "    <div class=\"colab-df-container\">\n",
              "      <div>\n",
              "<style scoped>\n",
              "    .dataframe tbody tr th:only-of-type {\n",
              "        vertical-align: middle;\n",
              "    }\n",
              "\n",
              "    .dataframe tbody tr th {\n",
              "        vertical-align: top;\n",
              "    }\n",
              "\n",
              "    .dataframe thead th {\n",
              "        text-align: right;\n",
              "    }\n",
              "</style>\n",
              "<table border=\"1\" class=\"dataframe\">\n",
              "  <thead>\n",
              "    <tr style=\"text-align: right;\">\n",
              "      <th></th>\n",
              "      <th>blink_id</th>\n",
              "      <th>left_eye</th>\n",
              "      <th>right_eye</th>\n",
              "      <th>video</th>\n",
              "      <th>blink</th>\n",
              "    </tr>\n",
              "  </thead>\n",
              "  <tbody>\n",
              "    <tr>\n",
              "      <th>0</th>\n",
              "      <td>0</td>\n",
              "      <td>0_left_000001_rgb.png</td>\n",
              "      <td>0_right_000001_rgb.png</td>\n",
              "      <td>0</td>\n",
              "      <td>0</td>\n",
              "    </tr>\n",
              "    <tr>\n",
              "      <th>1</th>\n",
              "      <td>1</td>\n",
              "      <td>0_left_000002_rgb.png</td>\n",
              "      <td>0_right_000002_rgb.png</td>\n",
              "      <td>0</td>\n",
              "      <td>0</td>\n",
              "    </tr>\n",
              "    <tr>\n",
              "      <th>2</th>\n",
              "      <td>2</td>\n",
              "      <td>0_left_000003_rgb.png</td>\n",
              "      <td>0_right_000003_rgb.png</td>\n",
              "      <td>0</td>\n",
              "      <td>0</td>\n",
              "    </tr>\n",
              "    <tr>\n",
              "      <th>3</th>\n",
              "      <td>3</td>\n",
              "      <td>0_left_000004_rgb.png</td>\n",
              "      <td>0_right_000004_rgb.png</td>\n",
              "      <td>0</td>\n",
              "      <td>0</td>\n",
              "    </tr>\n",
              "    <tr>\n",
              "      <th>4</th>\n",
              "      <td>4</td>\n",
              "      <td>0_left_000005_rgb.png</td>\n",
              "      <td>0_right_000005_rgb.png</td>\n",
              "      <td>0</td>\n",
              "      <td>0</td>\n",
              "    </tr>\n",
              "  </tbody>\n",
              "</table>\n",
              "</div>\n",
              "      <button class=\"colab-df-convert\" onclick=\"convertToInteractive('df-59b22a55-52b2-40d3-b9ad-c9af0830c1b4')\"\n",
              "              title=\"Convert this dataframe to an interactive table.\"\n",
              "              style=\"display:none;\">\n",
              "        \n",
              "  <svg xmlns=\"http://www.w3.org/2000/svg\" height=\"24px\"viewBox=\"0 0 24 24\"\n",
              "       width=\"24px\">\n",
              "    <path d=\"M0 0h24v24H0V0z\" fill=\"none\"/>\n",
              "    <path d=\"M18.56 5.44l.94 2.06.94-2.06 2.06-.94-2.06-.94-.94-2.06-.94 2.06-2.06.94zm-11 1L8.5 8.5l.94-2.06 2.06-.94-2.06-.94L8.5 2.5l-.94 2.06-2.06.94zm10 10l.94 2.06.94-2.06 2.06-.94-2.06-.94-.94-2.06-.94 2.06-2.06.94z\"/><path d=\"M17.41 7.96l-1.37-1.37c-.4-.4-.92-.59-1.43-.59-.52 0-1.04.2-1.43.59L10.3 9.45l-7.72 7.72c-.78.78-.78 2.05 0 2.83L4 21.41c.39.39.9.59 1.41.59.51 0 1.02-.2 1.41-.59l7.78-7.78 2.81-2.81c.8-.78.8-2.07 0-2.86zM5.41 20L4 18.59l7.72-7.72 1.47 1.35L5.41 20z\"/>\n",
              "  </svg>\n",
              "      </button>\n",
              "      \n",
              "  <style>\n",
              "    .colab-df-container {\n",
              "      display:flex;\n",
              "      flex-wrap:wrap;\n",
              "      gap: 12px;\n",
              "    }\n",
              "\n",
              "    .colab-df-convert {\n",
              "      background-color: #E8F0FE;\n",
              "      border: none;\n",
              "      border-radius: 50%;\n",
              "      cursor: pointer;\n",
              "      display: none;\n",
              "      fill: #1967D2;\n",
              "      height: 32px;\n",
              "      padding: 0 0 0 0;\n",
              "      width: 32px;\n",
              "    }\n",
              "\n",
              "    .colab-df-convert:hover {\n",
              "      background-color: #E2EBFA;\n",
              "      box-shadow: 0px 1px 2px rgba(60, 64, 67, 0.3), 0px 1px 3px 1px rgba(60, 64, 67, 0.15);\n",
              "      fill: #174EA6;\n",
              "    }\n",
              "\n",
              "    [theme=dark] .colab-df-convert {\n",
              "      background-color: #3B4455;\n",
              "      fill: #D2E3FC;\n",
              "    }\n",
              "\n",
              "    [theme=dark] .colab-df-convert:hover {\n",
              "      background-color: #434B5C;\n",
              "      box-shadow: 0px 1px 3px 1px rgba(0, 0, 0, 0.15);\n",
              "      filter: drop-shadow(0px 1px 2px rgba(0, 0, 0, 0.3));\n",
              "      fill: #FFFFFF;\n",
              "    }\n",
              "  </style>\n",
              "\n",
              "      <script>\n",
              "        const buttonEl =\n",
              "          document.querySelector('#df-59b22a55-52b2-40d3-b9ad-c9af0830c1b4 button.colab-df-convert');\n",
              "        buttonEl.style.display =\n",
              "          google.colab.kernel.accessAllowed ? 'block' : 'none';\n",
              "\n",
              "        async function convertToInteractive(key) {\n",
              "          const element = document.querySelector('#df-59b22a55-52b2-40d3-b9ad-c9af0830c1b4');\n",
              "          const dataTable =\n",
              "            await google.colab.kernel.invokeFunction('convertToInteractive',\n",
              "                                                     [key], {});\n",
              "          if (!dataTable) return;\n",
              "\n",
              "          const docLinkHtml = 'Like what you see? Visit the ' +\n",
              "            '<a target=\"_blank\" href=https://colab.research.google.com/notebooks/data_table.ipynb>data table notebook</a>'\n",
              "            + ' to learn more about interactive tables.';\n",
              "          element.innerHTML = '';\n",
              "          dataTable['output_type'] = 'display_data';\n",
              "          await google.colab.output.renderOutput(dataTable, element);\n",
              "          const docLink = document.createElement('div');\n",
              "          docLink.innerHTML = docLinkHtml;\n",
              "          element.appendChild(docLink);\n",
              "        }\n",
              "      </script>\n",
              "    </div>\n",
              "  </div>\n",
              "  "
            ]
          },
          "metadata": {},
          "execution_count": 11
        }
      ]
    },
    {
      "cell_type": "markdown",
      "source": [
        "- **Creamos las tres particiones de datos: entrenamiento, validación y test**\n",
        "\n"
      ],
      "metadata": {
        "id": "E7VPECAbLCyN"
      }
    },
    {
      "cell_type": "code",
      "source": [
        "# Semilla para replicar los experimentos\n",
        "seed = 2023\n",
        "# Creamos las tres particiones de datos: entrenamiento, validación y test\n",
        "train_data, test_data = train_test_split(labels, test_size=0.2, random_state=seed)\n",
        "dev_data, test_data = train_test_split(test_data, test_size=0.5, random_state=seed)"
      ],
      "metadata": {
        "id": "8FXPaZ16Ig0Y"
      },
      "execution_count": null,
      "outputs": []
    },
    {
      "cell_type": "markdown",
      "source": [
        "En Keras no existen generadores por defecto que devuelvan dos im\u0013agenes. Necesitamos crear nuestro propio generador que devuelva a la vez las imágenes de ambos ojos y la etiqueta del frame. Para ello podemos crear dos generadores (uno para cada ojo) usando el método `flow_from_databrame` y combinarlos para crear el generador deseado."
      ],
      "metadata": {
        "id": "xwZjOHteLfAo"
      }
    },
    {
      "cell_type": "code",
      "source": [
        "datagen = ImageDataGenerator(rescale=1./255)\n",
        "\n",
        "# Columnas dataset\n",
        "left_eye_col = 'left_eye'\n",
        "right_eye_col = 'right_eye'\n",
        "y_col = 'blink'\n",
        "\n",
        "# Parámetros\n",
        "batch_size = 128\n",
        "img_width = 122 # minimo 75x75\n",
        "img_height = 75\n",
        "\n",
        "# Generador custom que devuelve las dos imagenes de ojos y el label del parpadeo\n",
        "def generator(dataframe):\n",
        "  left_eye_generator = datagen.flow_from_dataframe(dataframe=dataframe, \n",
        "                                                    directory = imgs_path, \n",
        "                                                    target_size =(img_width, img_height), \n",
        "                                                    x_col=left_eye_col, \n",
        "                                                    y_col=y_col, \n",
        "                                                    class_mode=\"binary\", \n",
        "                                                    seed=seed, \n",
        "                                                    batch_size=batch_size)\n",
        "  \n",
        "  right_eye_generator = datagen.flow_from_dataframe(dataframe=dataframe,\n",
        "                                                    directory = imgs_path,\n",
        "                                                    target_size =(img_width, img_height),\n",
        "                                                    x_col=right_eye_col,\n",
        "                                                    y_col=y_col,\n",
        "                                                    class_mode=\"binary\",\n",
        "                                                    seed=seed,\n",
        "                                                    batch_size=batch_size)\n",
        "  \n",
        "  while True:\n",
        "    left_eye = left_eye_generator.next()\n",
        "    left_eye_image = left_eye[0]\n",
        "    label = left_eye[1]\n",
        "    right_eye = right_eye_generator.next()\n",
        "    right_eye_image = right_eye[0]\n",
        "    yield [left_eye_image, right_eye_image], label\n",
        "\n",
        "# Llamada a la función generator\n",
        "train_generator = generator(train_data)\n",
        "dev_generator = generator(train_data)\n",
        "test_generator = generator(train_data)"
      ],
      "metadata": {
        "id": "1tKJqLxZv836"
      },
      "execution_count": null,
      "outputs": []
    },
    {
      "cell_type": "code",
      "source": [
        "input_shape = (img_width,img_height,3)\n",
        "\n",
        "# Declaramos dos capas de Input\n",
        "input_image1 = Input(shape=input_shape)\n",
        "input_image2 = Input(shape=input_shape)"
      ],
      "metadata": {
        "id": "Jer5o8LzLzm7"
      },
      "execution_count": null,
      "outputs": []
    },
    {
      "cell_type": "code",
      "source": [
        "# Cargar InceptionResNetV2 pre-entrenado en ImageNet, sin la capa final\n",
        "base_model = InceptionResNetV2(weights='imagenet', include_top=False, pooling='avg')\n",
        "\n",
        "# Congelar todas las capas del modelo base para aplicar transfer learning\n",
        "for layer in base_model.layers:\n",
        "    layer.trainable = False\n",
        "\n",
        "# Extraer las características utilizando InceptionResNetV2\n",
        "features_image1 = base_model(input_image1)\n",
        "features_image2 = base_model(input_image2)\n",
        "\n",
        "# Combinar las características de ambas imágenes\n",
        "merged_features = Concatenate()([features_image1, features_image2])\n",
        "\n",
        "# Añadir capas adicionales para la clasificación\n",
        "x = Dense(1024, activation='relu')(merged_features)\n",
        "x = Dropout(0.5)(x)\n",
        "x = Dense(512, activation='relu')(x)\n",
        "output = Dense(1, activation='sigmoid')(x)\n",
        "\n",
        "# Crear el modelo\n",
        "model = Model(inputs=[input_image1, input_image2], outputs=output)\n",
        "\n",
        "# Compilar el modelo\n",
        "model.compile(optimizer=Adam(learning_rate=1e-4), loss='binary_crossentropy', metrics=['accuracy'])\n",
        "\n",
        "# Imprimir un resumen del modelo\n",
        "model.summary()"
      ],
      "metadata": {
        "colab": {
          "base_uri": "https://localhost:8080/"
        },
        "id": "4XZn-QbmRI8Q",
        "outputId": "8af6f2a2-8e83-494b-ba6e-b5fdc039aec4"
      },
      "execution_count": null,
      "outputs": [
        {
          "output_type": "stream",
          "name": "stdout",
          "text": [
            "Model: \"model_2\"\n",
            "__________________________________________________________________________________________________\n",
            " Layer (type)                   Output Shape         Param #     Connected to                     \n",
            "==================================================================================================\n",
            " input_5 (InputLayer)           [(None, 122, 75, 3)  0           []                               \n",
            "                                ]                                                                 \n",
            "                                                                                                  \n",
            " input_6 (InputLayer)           [(None, 122, 75, 3)  0           []                               \n",
            "                                ]                                                                 \n",
            "                                                                                                  \n",
            " inception_resnet_v2 (Functiona  (None, 1536)        54336736    ['input_5[0][0]',                \n",
            " l)                                                               'input_6[0][0]']                \n",
            "                                                                                                  \n",
            " concatenate_3 (Concatenate)    (None, 3072)         0           ['inception_resnet_v2[0][0]',    \n",
            "                                                                  'inception_resnet_v2[1][0]']    \n",
            "                                                                                                  \n",
            " dense_8 (Dense)                (None, 1024)         3146752     ['concatenate_3[0][0]']          \n",
            "                                                                                                  \n",
            " dropout_3 (Dropout)            (None, 1024)         0           ['dense_8[0][0]']                \n",
            "                                                                                                  \n",
            " dense_9 (Dense)                (None, 512)          524800      ['dropout_3[0][0]']              \n",
            "                                                                                                  \n",
            " dense_10 (Dense)               (None, 1)            513         ['dense_9[0][0]']                \n",
            "                                                                                                  \n",
            "==================================================================================================\n",
            "Total params: 58,008,801\n",
            "Trainable params: 3,672,065\n",
            "Non-trainable params: 54,336,736\n",
            "__________________________________________________________________________________________________\n"
          ]
        }
      ]
    },
    {
      "cell_type": "code",
      "source": [
        "# Entrenamos el modelo con los datos preparados en el punto 2\n",
        "model.fit(train_generator,\n",
        "          epochs=10,  # numero de epochs\n",
        "          verbose=2,  # muestra informacion del error al finalizar cada epoch\n",
        "          steps_per_epoch=len(train_data)/batch_size,\n",
        "          validation_data=train_generator,\n",
        "          validation_steps=len(dev_data)/batch_size)\n",
        "\n",
        "# Por ultimo, podemos evaluar el modelo en el conjunto de test\n",
        "print()\n",
        "test_loss, test_acc = model.evaluate(test_generator,\n",
        "                                     steps=len(test_data)/batch_size,\n",
        "                                     verbose=1)\n",
        "print(\"test_loss: %.4f, test_acc: %.4f\" % (test_loss, test_acc))"
      ],
      "metadata": {
        "colab": {
          "base_uri": "https://localhost:8080/"
        },
        "id": "TB-EZ9e5SUiR",
        "outputId": "03c452e9-1865-4b61-e3ea-25efda3f0137"
      },
      "execution_count": null,
      "outputs": [
        {
          "output_type": "stream",
          "name": "stdout",
          "text": [
            "Epoch 1/10\n",
            "670/670 - 3955s - loss: 0.0363 - accuracy: 0.9878 - val_loss: 0.0264 - val_accuracy: 0.9900 - 3955s/epoch - 6s/step\n",
            "Epoch 2/10\n"
          ]
        }
      ]
    },
    {
      "cell_type": "code",
      "source": [
        "# Cargamos el modelo InceptionV3 pre-entrenado con ImageNet\n",
        "base_model = applications.InceptionResNetV2(weights='imagenet', include_top=False, input_shape=(img_width,img_height,3))\n",
        "\n",
        "# Se va a ajustar los parámetros de las nuevas capas del modelo,\n",
        "# dejando fijos los parámetros del resto de capa (es decir, que no se actualicen durante el entrenamiento)\n",
        "for layer in base_model.layers:\n",
        "    layer.trainable = False   # por defecto, el valor de trainable es True\n",
        "\n",
        "# Añadimos nuevas capas al final para adaptar el modelo a nuestro problema\n",
        "x = base_model.output\n",
        "x = GlobalAveragePooling2D()(x)\n",
        "x = Dense(1024, activation='relu')(x)\n",
        "\n",
        "# Añadimos una última capa completamente conectada con 2 neuronas (número de clases) para obtener la salida de la red\n",
        "predictions = Dense(2, activation='softmax')(x) \n",
        "\n",
        "# Creamos el modelo final y lo compilamos\n",
        "model = Model(inputs=[input_1, input_2], outputs=[predictions])\n",
        "model.summary()   # representación en modo texto del modelo\n",
        "\n",
        "model.compile(loss='categorical_crossentropy',                # función de pérdida para problemas de clasificación multi-clase\n",
        "              optimizer=optimizers.Adam(learning_rate=1e-5),  # optimizador Adam\n",
        "              metrics=['accuracy'])\n",
        "\n",
        "# Entrenamos el modelo con los datos preparados en el punto 2\n",
        "model.fit(train_generator,\n",
        "          epochs=10,  # numero de epochs\n",
        "          verbose=2,  # muestra informacion del error al finalizar cada epoch\n",
        "          steps_per_epoch=len(train_data)/batch_size,\n",
        "          validation_data=train_generator,\n",
        "          validation_steps=len(dev_data)/batch_size)\n",
        "\n",
        "# Por ultimo, podemos evaluar el modelo en el conjunto de test\n",
        "print()\n",
        "test_loss, test_acc = model.evaluate(test_generator,\n",
        "                                     steps=len(test_data)/batch_size,\n",
        "                                     verbose=1)\n",
        "print(\"test_loss: %.4f, test_acc: %.4f\" % (test_loss, test_acc))"
      ],
      "metadata": {
        "colab": {
          "base_uri": "https://localhost:8080/",
          "height": 381
        },
        "id": "7TMOFXPXE3YE",
        "outputId": "9d1a7e44-97a9-4324-d79f-407c2a18dfe5"
      },
      "execution_count": null,
      "outputs": [
        {
          "output_type": "error",
          "ename": "ValueError",
          "evalue": "ignored",
          "traceback": [
            "\u001b[0;31m---------------------------------------------------------------------------\u001b[0m",
            "\u001b[0;31mValueError\u001b[0m                                Traceback (most recent call last)",
            "\u001b[0;32m<ipython-input-25-191a61fa0d47>\u001b[0m in \u001b[0;36m<cell line: 17>\u001b[0;34m()\u001b[0m\n\u001b[1;32m     15\u001b[0m \u001b[0;34m\u001b[0m\u001b[0m\n\u001b[1;32m     16\u001b[0m \u001b[0;31m# Creamos el modelo final y lo compilamos\u001b[0m\u001b[0;34m\u001b[0m\u001b[0;34m\u001b[0m\u001b[0m\n\u001b[0;32m---> 17\u001b[0;31m \u001b[0mmodel\u001b[0m \u001b[0;34m=\u001b[0m \u001b[0mModel\u001b[0m\u001b[0;34m(\u001b[0m\u001b[0minputs\u001b[0m\u001b[0;34m=\u001b[0m\u001b[0;34m[\u001b[0m\u001b[0minput_1\u001b[0m\u001b[0;34m,\u001b[0m \u001b[0minput_2\u001b[0m\u001b[0;34m]\u001b[0m\u001b[0;34m,\u001b[0m \u001b[0moutputs\u001b[0m\u001b[0;34m=\u001b[0m\u001b[0;34m[\u001b[0m\u001b[0mpredictions\u001b[0m\u001b[0;34m]\u001b[0m\u001b[0;34m)\u001b[0m\u001b[0;34m\u001b[0m\u001b[0;34m\u001b[0m\u001b[0m\n\u001b[0m\u001b[1;32m     18\u001b[0m \u001b[0mmodel\u001b[0m\u001b[0;34m.\u001b[0m\u001b[0msummary\u001b[0m\u001b[0;34m(\u001b[0m\u001b[0;34m)\u001b[0m   \u001b[0;31m# representación en modo texto del modelo\u001b[0m\u001b[0;34m\u001b[0m\u001b[0;34m\u001b[0m\u001b[0m\n\u001b[1;32m     19\u001b[0m \u001b[0;34m\u001b[0m\u001b[0m\n",
            "\u001b[0;32m/usr/local/lib/python3.9/dist-packages/tensorflow/python/trackable/base.py\u001b[0m in \u001b[0;36m_method_wrapper\u001b[0;34m(self, *args, **kwargs)\u001b[0m\n\u001b[1;32m    203\u001b[0m     \u001b[0mself\u001b[0m\u001b[0;34m.\u001b[0m\u001b[0m_self_setattr_tracking\u001b[0m \u001b[0;34m=\u001b[0m \u001b[0;32mFalse\u001b[0m  \u001b[0;31m# pylint: disable=protected-access\u001b[0m\u001b[0;34m\u001b[0m\u001b[0;34m\u001b[0m\u001b[0m\n\u001b[1;32m    204\u001b[0m     \u001b[0;32mtry\u001b[0m\u001b[0;34m:\u001b[0m\u001b[0;34m\u001b[0m\u001b[0;34m\u001b[0m\u001b[0m\n\u001b[0;32m--> 205\u001b[0;31m       \u001b[0mresult\u001b[0m \u001b[0;34m=\u001b[0m \u001b[0mmethod\u001b[0m\u001b[0;34m(\u001b[0m\u001b[0mself\u001b[0m\u001b[0;34m,\u001b[0m \u001b[0;34m*\u001b[0m\u001b[0margs\u001b[0m\u001b[0;34m,\u001b[0m \u001b[0;34m**\u001b[0m\u001b[0mkwargs\u001b[0m\u001b[0;34m)\u001b[0m\u001b[0;34m\u001b[0m\u001b[0;34m\u001b[0m\u001b[0m\n\u001b[0m\u001b[1;32m    206\u001b[0m     \u001b[0;32mfinally\u001b[0m\u001b[0;34m:\u001b[0m\u001b[0;34m\u001b[0m\u001b[0;34m\u001b[0m\u001b[0m\n\u001b[1;32m    207\u001b[0m       \u001b[0mself\u001b[0m\u001b[0;34m.\u001b[0m\u001b[0m_self_setattr_tracking\u001b[0m \u001b[0;34m=\u001b[0m \u001b[0mprevious_value\u001b[0m  \u001b[0;31m# pylint: disable=protected-access\u001b[0m\u001b[0;34m\u001b[0m\u001b[0;34m\u001b[0m\u001b[0m\n",
            "\u001b[0;32m/usr/local/lib/python3.9/dist-packages/keras/engine/functional.py\u001b[0m in \u001b[0;36m__init__\u001b[0;34m(self, inputs, outputs, name, trainable, **kwargs)\u001b[0m\n\u001b[1;32m    165\u001b[0m                     \u001b[0minputs\u001b[0m\u001b[0;34m,\u001b[0m \u001b[0moutputs\u001b[0m\u001b[0;34m\u001b[0m\u001b[0;34m\u001b[0m\u001b[0m\n\u001b[1;32m    166\u001b[0m                 )\n\u001b[0;32m--> 167\u001b[0;31m         \u001b[0mself\u001b[0m\u001b[0;34m.\u001b[0m\u001b[0m_init_graph_network\u001b[0m\u001b[0;34m(\u001b[0m\u001b[0minputs\u001b[0m\u001b[0;34m,\u001b[0m \u001b[0moutputs\u001b[0m\u001b[0;34m)\u001b[0m\u001b[0;34m\u001b[0m\u001b[0;34m\u001b[0m\u001b[0m\n\u001b[0m\u001b[1;32m    168\u001b[0m \u001b[0;34m\u001b[0m\u001b[0m\n\u001b[1;32m    169\u001b[0m     \u001b[0;34m@\u001b[0m\u001b[0mtf\u001b[0m\u001b[0;34m.\u001b[0m\u001b[0m__internal__\u001b[0m\u001b[0;34m.\u001b[0m\u001b[0mtracking\u001b[0m\u001b[0;34m.\u001b[0m\u001b[0mno_automatic_dependency_tracking\u001b[0m\u001b[0;34m\u001b[0m\u001b[0;34m\u001b[0m\u001b[0m\n",
            "\u001b[0;32m/usr/local/lib/python3.9/dist-packages/tensorflow/python/trackable/base.py\u001b[0m in \u001b[0;36m_method_wrapper\u001b[0;34m(self, *args, **kwargs)\u001b[0m\n\u001b[1;32m    203\u001b[0m     \u001b[0mself\u001b[0m\u001b[0;34m.\u001b[0m\u001b[0m_self_setattr_tracking\u001b[0m \u001b[0;34m=\u001b[0m \u001b[0;32mFalse\u001b[0m  \u001b[0;31m# pylint: disable=protected-access\u001b[0m\u001b[0;34m\u001b[0m\u001b[0;34m\u001b[0m\u001b[0m\n\u001b[1;32m    204\u001b[0m     \u001b[0;32mtry\u001b[0m\u001b[0;34m:\u001b[0m\u001b[0;34m\u001b[0m\u001b[0;34m\u001b[0m\u001b[0m\n\u001b[0;32m--> 205\u001b[0;31m       \u001b[0mresult\u001b[0m \u001b[0;34m=\u001b[0m \u001b[0mmethod\u001b[0m\u001b[0;34m(\u001b[0m\u001b[0mself\u001b[0m\u001b[0;34m,\u001b[0m \u001b[0;34m*\u001b[0m\u001b[0margs\u001b[0m\u001b[0;34m,\u001b[0m \u001b[0;34m**\u001b[0m\u001b[0mkwargs\u001b[0m\u001b[0;34m)\u001b[0m\u001b[0;34m\u001b[0m\u001b[0;34m\u001b[0m\u001b[0m\n\u001b[0m\u001b[1;32m    206\u001b[0m     \u001b[0;32mfinally\u001b[0m\u001b[0;34m:\u001b[0m\u001b[0;34m\u001b[0m\u001b[0;34m\u001b[0m\u001b[0m\n\u001b[1;32m    207\u001b[0m       \u001b[0mself\u001b[0m\u001b[0;34m.\u001b[0m\u001b[0m_self_setattr_tracking\u001b[0m \u001b[0;34m=\u001b[0m \u001b[0mprevious_value\u001b[0m  \u001b[0;31m# pylint: disable=protected-access\u001b[0m\u001b[0;34m\u001b[0m\u001b[0;34m\u001b[0m\u001b[0m\n",
            "\u001b[0;32m/usr/local/lib/python3.9/dist-packages/keras/engine/functional.py\u001b[0m in \u001b[0;36m_init_graph_network\u001b[0;34m(self, inputs, outputs)\u001b[0m\n\u001b[1;32m    264\u001b[0m \u001b[0;34m\u001b[0m\u001b[0m\n\u001b[1;32m    265\u001b[0m         \u001b[0;31m# Keep track of the network's nodes and layers.\u001b[0m\u001b[0;34m\u001b[0m\u001b[0;34m\u001b[0m\u001b[0m\n\u001b[0;32m--> 266\u001b[0;31m         nodes, nodes_by_depth, layers, _ = _map_graph_network(\n\u001b[0m\u001b[1;32m    267\u001b[0m             \u001b[0mself\u001b[0m\u001b[0;34m.\u001b[0m\u001b[0minputs\u001b[0m\u001b[0;34m,\u001b[0m \u001b[0mself\u001b[0m\u001b[0;34m.\u001b[0m\u001b[0moutputs\u001b[0m\u001b[0;34m\u001b[0m\u001b[0;34m\u001b[0m\u001b[0m\n\u001b[1;32m    268\u001b[0m         )\n",
            "\u001b[0;32m/usr/local/lib/python3.9/dist-packages/keras/engine/functional.py\u001b[0m in \u001b[0;36m_map_graph_network\u001b[0;34m(inputs, outputs)\u001b[0m\n\u001b[1;32m   1140\u001b[0m                 \u001b[0;32mfor\u001b[0m \u001b[0mx\u001b[0m \u001b[0;32min\u001b[0m \u001b[0mtf\u001b[0m\u001b[0;34m.\u001b[0m\u001b[0mnest\u001b[0m\u001b[0;34m.\u001b[0m\u001b[0mflatten\u001b[0m\u001b[0;34m(\u001b[0m\u001b[0mnode\u001b[0m\u001b[0;34m.\u001b[0m\u001b[0mkeras_inputs\u001b[0m\u001b[0;34m)\u001b[0m\u001b[0;34m:\u001b[0m\u001b[0;34m\u001b[0m\u001b[0;34m\u001b[0m\u001b[0m\n\u001b[1;32m   1141\u001b[0m                     \u001b[0;32mif\u001b[0m \u001b[0mid\u001b[0m\u001b[0;34m(\u001b[0m\u001b[0mx\u001b[0m\u001b[0;34m)\u001b[0m \u001b[0;32mnot\u001b[0m \u001b[0;32min\u001b[0m \u001b[0mcomputable_tensors\u001b[0m\u001b[0;34m:\u001b[0m\u001b[0;34m\u001b[0m\u001b[0;34m\u001b[0m\u001b[0m\n\u001b[0;32m-> 1142\u001b[0;31m                         raise ValueError(\n\u001b[0m\u001b[1;32m   1143\u001b[0m                             \u001b[0;34m\"Graph disconnected: cannot obtain value for \"\u001b[0m\u001b[0;34m\u001b[0m\u001b[0;34m\u001b[0m\u001b[0m\n\u001b[1;32m   1144\u001b[0m                             \u001b[0;34mf'tensor {x} at layer \"{layer.name}\". '\u001b[0m\u001b[0;34m\u001b[0m\u001b[0;34m\u001b[0m\u001b[0m\n",
            "\u001b[0;31mValueError\u001b[0m: Graph disconnected: cannot obtain value for tensor KerasTensor(type_spec=TensorSpec(shape=(None, 122, 75, 3), dtype=tf.float32, name='input_14'), name='input_14', description=\"created by layer 'input_14'\") at layer \"conv2d_609\". The following previous layers were accessed without issue: []"
          ]
        }
      ]
    }
  ]
}